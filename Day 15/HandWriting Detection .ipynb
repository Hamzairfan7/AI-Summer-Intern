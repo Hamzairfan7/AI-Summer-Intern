{
 "cells": [
  {
   "cell_type": "markdown",
   "id": "f5f6c9d0",
   "metadata": {},
   "source": [
    "### Fetching DATASETS"
   ]
  },
  {
   "cell_type": "code",
   "execution_count": 36,
   "id": "02fa0528",
   "metadata": {},
   "outputs": [],
   "source": [
    "import pandas as pd\n",
    "import numpy as np\n",
    "import torch, torchvision\n",
    "from torch import nn\n",
    "from torch import optim\n",
    "from torchvision.transforms import ToTensor\n",
    "import torch.nn.functional as F\n",
    "import matplotlib.pyplot as plt"
   ]
  },
  {
   "cell_type": "code",
   "execution_count": 37,
   "id": "25772a27",
   "metadata": {},
   "outputs": [],
   "source": [
    "numb_batch = 64  # This means that the data will be loaded in batches of 64 samples at a time."
   ]
  },
  {
   "cell_type": "markdown",
   "id": "68d2571b",
   "metadata": {},
   "source": [
    "### Getting Data"
   ]
  },
  {
   "cell_type": "code",
   "execution_count": 38,
   "id": "c7930f77",
   "metadata": {},
   "outputs": [
    {
     "name": "stdout",
     "output_type": "stream",
     "text": [
      "Downloading http://yann.lecun.com/exdb/mnist/train-images-idx3-ubyte.gz\n",
      "Downloading http://yann.lecun.com/exdb/mnist/train-images-idx3-ubyte.gz to mnist_data\\MNIST\\raw\\train-images-idx3-ubyte.gz\n"
     ]
    },
    {
     "name": "stderr",
     "output_type": "stream",
     "text": [
      "100%|██████████| 9912422/9912422 [00:00<00:00, 11106489.64it/s]\n"
     ]
    },
    {
     "name": "stdout",
     "output_type": "stream",
     "text": [
      "Extracting mnist_data\\MNIST\\raw\\train-images-idx3-ubyte.gz to mnist_data\\MNIST\\raw\n",
      "\n",
      "Downloading http://yann.lecun.com/exdb/mnist/train-labels-idx1-ubyte.gz\n",
      "Downloading http://yann.lecun.com/exdb/mnist/train-labels-idx1-ubyte.gz to mnist_data\\MNIST\\raw\\train-labels-idx1-ubyte.gz\n"
     ]
    },
    {
     "name": "stderr",
     "output_type": "stream",
     "text": [
      "100%|██████████| 28881/28881 [00:00<00:00, 14448436.76it/s]\n"
     ]
    },
    {
     "name": "stdout",
     "output_type": "stream",
     "text": [
      "Extracting mnist_data\\MNIST\\raw\\train-labels-idx1-ubyte.gz to mnist_data\\MNIST\\raw\n",
      "\n",
      "Downloading http://yann.lecun.com/exdb/mnist/t10k-images-idx3-ubyte.gz\n",
      "Downloading http://yann.lecun.com/exdb/mnist/t10k-images-idx3-ubyte.gz to mnist_data\\MNIST\\raw\\t10k-images-idx3-ubyte.gz\n"
     ]
    },
    {
     "name": "stderr",
     "output_type": "stream",
     "text": [
      "100%|██████████| 1648877/1648877 [00:00<00:00, 9938710.41it/s]\n"
     ]
    },
    {
     "name": "stdout",
     "output_type": "stream",
     "text": [
      "Extracting mnist_data\\MNIST\\raw\\t10k-images-idx3-ubyte.gz to mnist_data\\MNIST\\raw\n",
      "\n",
      "Downloading http://yann.lecun.com/exdb/mnist/t10k-labels-idx1-ubyte.gz\n",
      "Downloading http://yann.lecun.com/exdb/mnist/t10k-labels-idx1-ubyte.gz to mnist_data\\MNIST\\raw\\t10k-labels-idx1-ubyte.gz\n"
     ]
    },
    {
     "name": "stderr",
     "output_type": "stream",
     "text": [
      "100%|██████████| 4542/4542 [00:00<?, ?it/s]\n"
     ]
    },
    {
     "name": "stdout",
     "output_type": "stream",
     "text": [
      "Extracting mnist_data\\MNIST\\raw\\t10k-labels-idx1-ubyte.gz to mnist_data\\MNIST\\raw\n",
      "\n"
     ]
    }
   ],
   "source": [
    "T = torchvision.transforms.Compose([\n",
    "        torchvision.transforms.ToTensor()   # converts images into PyTorch tensors.\n",
    "])\n",
    "# training dataset called \"train_data\" using the MNIST dataset from the 'mnist_data' directory\n",
    "train_data = torchvision.datasets.MNIST('mnist_data',train=True , download=True , transform =T)\n",
    "# validation dataset called \"val_data\" using the MNIST dataset from the 'mnist_data' directory.\n",
    "val_data = torchvision.datasets.MNIST('mnist_data',train=False , download=True , transform =T)\n",
    "\n",
    "train_dl = torch.utils.data.DataLoader(train_data, batch_size=numb_batch)\n",
    "val_dl = torch.utils.data.DataLoader(val_data, batch_size=numb_batch)"
   ]
  },
  {
   "cell_type": "code",
   "execution_count": 50,
   "id": "6b511946",
   "metadata": {},
   "outputs": [
    {
     "data": {
      "text/plain": [
       "<matplotlib.image.AxesImage at 0x27ac71e1a90>"
      ]
     },
     "execution_count": 50,
     "metadata": {},
     "output_type": "execute_result"
    },
    {
     "data": {
      "image/png": "[encoded data removed]",
      "text/plain": [
       "<Figure size 640x480 with 1 Axes>"
      ]
     },
     "metadata": {},
     "output_type": "display_data"
    }
   ],
   "source": [
    "plt.imshow(train_data[0][0][0], cmap=\"gray\")"
   ]
  },
  {
   "cell_type": "markdown",
   "id": "9790dae2",
   "metadata": {},
   "source": [
    "### Creating Model"
   ]
  },
  {
   "cell_type": "code",
   "execution_count": 55,
   "id": "54bf2cd5",
   "metadata": {},
   "outputs": [],
   "source": [
    "def create_detector():\n",
    "    model=nn.Sequential(\n",
    "        \n",
    "        # first convolutional layer\n",
    "        nn.Conv2d(1,6,5, padding = 2),  #i/p channel =1  o/p channel = 6, kernal size = 5x5 \n",
    "        # padding of 2 pixels to maintain the spatial dimensions of the feature map\n",
    "        nn.ReLU(),\n",
    "        #It reduces the spatial dimensions of the feature map by a factor of 2, reduces complexity\n",
    "        nn.AvgPool2d(2, stride=2), \n",
    "        \n",
    "        # 2nd convolution layer \n",
    "        # input with 6 channels (output from the previous layer) and produces an output with 16 channels. \n",
    "        nn.Conv2d(6,16,5, padding = 0),\n",
    "        nn.ReLU(),\n",
    "        nn.AvgPool2d(2, stride=2), # reduces the spatial dimensions of the feature map by a factor of 2\n",
    "        \n",
    "        nn.Flatten(), # flattens the 2D feature maps into a 1D vector\n",
    "        \n",
    "        nn.Linear(400 , 120),  # first fully connected (linear) layer, flattened input of size 400 (which comes from the previous layer)\n",
    "        # and produces an output of size 120.\n",
    "        \n",
    "        nn.Linear(120, 84), # second fully connected layer\n",
    "        nn.Linear(84,10)\n",
    "    \n",
    "    \n",
    "    )\n",
    "    return model"
   ]
  },
  {
   "cell_type": "markdown",
   "id": "456bbc20",
   "metadata": {},
   "source": [
    "### Model Validation"
   ]
  },
  {
   "cell_type": "code",
   "execution_count": 57,
   "id": "22e132e0",
   "metadata": {},
   "outputs": [],
   "source": [
    "def validate(model,data):\n",
    "    total = 0  # keep track of the total number of data points processed\n",
    "    correct = 0 # keep track of the number of correctly predicted data points.\n",
    "    for i, (images, labels) in enumerate(data):\n",
    "        x=model(images)  # x is basicaly the prediction for model\n",
    "        value, pred = torch.max(x,1) # finds the maximum value and its corresponding index \n",
    "        total += x.size(0)\n",
    "        correct += torch.sum(pred == labels)\n",
    "    \n",
    "    return correct*100./total"
   ]
  },
  {
   "cell_type": "code",
   "execution_count": 87,
   "id": "a7eaa139",
   "metadata": {},
   "outputs": [],
   "source": [
    "import copy"
   ]
  },
  {
   "cell_type": "markdown",
   "id": "79f05c0f",
   "metadata": {},
   "source": [
    "### Model Training"
   ]
  },
  {
   "cell_type": "code",
   "execution_count": 91,
   "id": "4adc2b53",
   "metadata": {},
   "outputs": [],
   "source": [
    "def train(num_epoch=5, lr=1e-3):\n",
    "    accuracies=[] # init empty lists to store accuracy values during training\n",
    "    cnn = create_detector()  # create an instance of a CNN model.\n",
    "    cec = nn.CrossEntropyLoss()\n",
    "    optimizer = optim.Adam(cnn.parameters(), lr=lr)  #pdate the model's parameters during training\n",
    "    max_accuracy = 0 #initializind accuracy\n",
    "    \n",
    "    for epoch in range(num_epoch):\n",
    "        for i,(images, labels) in enumerate(train_dl):\n",
    "            #mages = images.to(device)\n",
    "            #abels = labels.to(device)\n",
    "            optimizer.zero_grad()\n",
    "            pred = cnn(images)\n",
    "            loss = cec(pred, labels)\n",
    "            loss.backward()\n",
    "            optimizer.step()\n",
    "            \n",
    "            #calculates the accuracy of the trained CNN model (cnn) on the validation dataset (val_dl)\n",
    "            #by alling the validate function.\n",
    "            \n",
    "        accuracy=float(validate(cnn,val_dl))\n",
    "        accuracies.append(accuracy)\n",
    "        if accuracy > max_accuracy:\n",
    "            best_model=copy.deepcopy(cnn) # This is done to save the model with the highest \n",
    "           #accuracy achieved during training.\n",
    "        \n",
    "            max_accuracy = accuracy\n",
    "            print (\"Saving best model with accuracy\" , accuracy)\n",
    "        print (\"Epoch: \" , epoch+1, \"ccuracy: \", accuracy,\"%\")\n",
    "    plt.plot(accuracies)\n",
    "    return best_model\n",
    "                       "
   ]
  },
  {
   "cell_type": "code",
   "execution_count": 92,
   "id": "713c3540",
   "metadata": {},
   "outputs": [
    {
     "name": "stdout",
     "output_type": "stream",
     "text": [
      "Saving best model with accuracy 95.20999908447266\n",
      "Epoch:  1 ccuracy:  95.20999908447266 %\n",
      "Saving best model with accuracy 97.19999694824219\n",
      "Epoch:  2 ccuracy:  97.19999694824219 %\n",
      "Saving best model with accuracy 97.87000274658203\n",
      "Epoch:  3 ccuracy:  97.87000274658203 %\n",
      "Saving best model with accuracy 98.0999984741211\n",
      "Epoch:  4 ccuracy:  98.0999984741211 %\n",
      "Saving best model with accuracy 98.22000122070312\n",
      "Epoch:  5 ccuracy:  98.22000122070312 %\n",
      "Saving best model with accuracy 98.5199966430664\n",
      "Epoch:  6 ccuracy:  98.5199966430664 %\n",
      "Saving best model with accuracy 98.72000122070312\n",
      "Epoch:  7 ccuracy:  98.72000122070312 %\n",
      "Saving best model with accuracy 98.80000305175781\n",
      "Epoch:  8 ccuracy:  98.80000305175781 %\n",
      "Epoch:  9 ccuracy:  98.68000030517578 %\n",
      "Epoch:  10 ccuracy:  98.63999938964844 %\n"
     ]
    },
    {
     "data": {
      "image/png": "[encoded data removed]",
      "text/plain": [
       "<Figure size 640x480 with 1 Axes>"
      ]
     },
     "metadata": {},
     "output_type": "display_data"
    }
   ],
   "source": [
    "detector = train(10)"
   ]
  },
  {
   "cell_type": "code",
   "execution_count": 99,
   "id": "64eec6fa",
   "metadata": {},
   "outputs": [],
   "source": [
    "def predict_dl(model, data):\n",
    "    y_pred = []\n",
    "    y_true = []\n",
    "    for i , (images, labels) in enumerate (data):\n",
    "        x= model(images)\n",
    "        value, pred=torch.max(x,1) # finds the maximum value and its corresponding index\n",
    "        pred = pred.data\n",
    "        y_pred.extend(list(pred.numpy()))\n",
    "        y_true.extend(list(labels.numpy()))\n",
    "    return np.array(y_pred), np.array(y_true)\n",
    "        "
   ]
  },
  {
   "cell_type": "code",
   "execution_count": 100,
   "id": "324daf23",
   "metadata": {},
   "outputs": [],
   "source": [
    "# obtain predicted values and true values from a trained machine learning model\n",
    "# (detector) on a validation dataset\n",
    "\n",
    "y_pred,y_true = predict_dl(detector, val_dl)"
   ]
  },
  {
   "cell_type": "code",
   "execution_count": 107,
   "id": "5d1c37eb",
   "metadata": {},
   "outputs": [],
   "source": [
    "from sklearn.metrics import confusion_matrix\n",
    "import pandas as pd\n",
    "import numpy as np"
   ]
  },
  {
   "cell_type": "code",
   "execution_count": 108,
   "id": "bd6c6cca",
   "metadata": {},
   "outputs": [
    {
     "data": {
      "text/plain": [
       "array([7, 2, 1, ..., 4, 5, 6], dtype=int64)"
      ]
     },
     "execution_count": 108,
     "metadata": {},
     "output_type": "execute_result"
    }
   ],
   "source": [
    "y_pred"
   ]
  },
  {
   "cell_type": "code",
   "execution_count": 110,
   "id": "f113f818",
   "metadata": {},
   "outputs": [
    {
     "data": {
      "text/html": [
       "<div>\n",
       "<style scoped>\n",
       "    .dataframe tbody tr th:only-of-type {\n",
       "        vertical-align: middle;\n",
       "    }\n",
       "\n",
       "    .dataframe tbody tr th {\n",
       "        vertical-align: top;\n",
       "    }\n",
       "\n",
       "    .dataframe thead th {\n",
       "        text-align: right;\n",
       "    }\n",
       "</style>\n",
       "<table border=\"1\" class=\"dataframe\">\n",
       "  <thead>\n",
       "    <tr style=\"text-align: right;\">\n",
       "      <th></th>\n",
       "      <th>0</th>\n",
       "      <th>1</th>\n",
       "      <th>2</th>\n",
       "      <th>3</th>\n",
       "      <th>4</th>\n",
       "      <th>5</th>\n",
       "      <th>6</th>\n",
       "      <th>7</th>\n",
       "      <th>8</th>\n",
       "      <th>9</th>\n",
       "    </tr>\n",
       "  </thead>\n",
       "  <tbody>\n",
       "    <tr>\n",
       "      <th>0</th>\n",
       "      <td>976</td>\n",
       "      <td>0</td>\n",
       "      <td>1</td>\n",
       "      <td>0</td>\n",
       "      <td>0</td>\n",
       "      <td>1</td>\n",
       "      <td>0</td>\n",
       "      <td>0</td>\n",
       "      <td>1</td>\n",
       "      <td>1</td>\n",
       "    </tr>\n",
       "    <tr>\n",
       "      <th>1</th>\n",
       "      <td>0</td>\n",
       "      <td>1133</td>\n",
       "      <td>1</td>\n",
       "      <td>0</td>\n",
       "      <td>0</td>\n",
       "      <td>1</td>\n",
       "      <td>0</td>\n",
       "      <td>0</td>\n",
       "      <td>0</td>\n",
       "      <td>0</td>\n",
       "    </tr>\n",
       "    <tr>\n",
       "      <th>2</th>\n",
       "      <td>1</td>\n",
       "      <td>1</td>\n",
       "      <td>1023</td>\n",
       "      <td>1</td>\n",
       "      <td>1</td>\n",
       "      <td>0</td>\n",
       "      <td>1</td>\n",
       "      <td>1</td>\n",
       "      <td>3</td>\n",
       "      <td>0</td>\n",
       "    </tr>\n",
       "    <tr>\n",
       "      <th>3</th>\n",
       "      <td>0</td>\n",
       "      <td>0</td>\n",
       "      <td>2</td>\n",
       "      <td>992</td>\n",
       "      <td>0</td>\n",
       "      <td>10</td>\n",
       "      <td>0</td>\n",
       "      <td>3</td>\n",
       "      <td>3</td>\n",
       "      <td>0</td>\n",
       "    </tr>\n",
       "    <tr>\n",
       "      <th>4</th>\n",
       "      <td>1</td>\n",
       "      <td>0</td>\n",
       "      <td>1</td>\n",
       "      <td>0</td>\n",
       "      <td>965</td>\n",
       "      <td>0</td>\n",
       "      <td>1</td>\n",
       "      <td>0</td>\n",
       "      <td>0</td>\n",
       "      <td>14</td>\n",
       "    </tr>\n",
       "    <tr>\n",
       "      <th>5</th>\n",
       "      <td>2</td>\n",
       "      <td>0</td>\n",
       "      <td>0</td>\n",
       "      <td>1</td>\n",
       "      <td>0</td>\n",
       "      <td>888</td>\n",
       "      <td>1</td>\n",
       "      <td>0</td>\n",
       "      <td>0</td>\n",
       "      <td>0</td>\n",
       "    </tr>\n",
       "    <tr>\n",
       "      <th>6</th>\n",
       "      <td>3</td>\n",
       "      <td>2</td>\n",
       "      <td>0</td>\n",
       "      <td>0</td>\n",
       "      <td>0</td>\n",
       "      <td>9</td>\n",
       "      <td>941</td>\n",
       "      <td>0</td>\n",
       "      <td>3</td>\n",
       "      <td>0</td>\n",
       "    </tr>\n",
       "    <tr>\n",
       "      <th>7</th>\n",
       "      <td>0</td>\n",
       "      <td>3</td>\n",
       "      <td>13</td>\n",
       "      <td>1</td>\n",
       "      <td>0</td>\n",
       "      <td>0</td>\n",
       "      <td>0</td>\n",
       "      <td>1006</td>\n",
       "      <td>2</td>\n",
       "      <td>3</td>\n",
       "    </tr>\n",
       "    <tr>\n",
       "      <th>8</th>\n",
       "      <td>2</td>\n",
       "      <td>0</td>\n",
       "      <td>2</td>\n",
       "      <td>1</td>\n",
       "      <td>0</td>\n",
       "      <td>2</td>\n",
       "      <td>1</td>\n",
       "      <td>2</td>\n",
       "      <td>963</td>\n",
       "      <td>1</td>\n",
       "    </tr>\n",
       "    <tr>\n",
       "      <th>9</th>\n",
       "      <td>1</td>\n",
       "      <td>1</td>\n",
       "      <td>0</td>\n",
       "      <td>0</td>\n",
       "      <td>3</td>\n",
       "      <td>5</td>\n",
       "      <td>0</td>\n",
       "      <td>2</td>\n",
       "      <td>4</td>\n",
       "      <td>993</td>\n",
       "    </tr>\n",
       "  </tbody>\n",
       "</table>\n",
       "</div>"
      ],
      "text/plain": [
       "     0     1     2    3    4    5    6     7    8    9\n",
       "0  976     0     1    0    0    1    0     0    1    1\n",
       "1    0  1133     1    0    0    1    0     0    0    0\n",
       "2    1     1  1023    1    1    0    1     1    3    0\n",
       "3    0     0     2  992    0   10    0     3    3    0\n",
       "4    1     0     1    0  965    0    1     0    0   14\n",
       "5    2     0     0    1    0  888    1     0    0    0\n",
       "6    3     2     0    0    0    9  941     0    3    0\n",
       "7    0     3    13    1    0    0    0  1006    2    3\n",
       "8    2     0     2    1    0    2    1     2  963    1\n",
       "9    1     1     0    0    3    5    0     2    4  993"
      ]
     },
     "execution_count": 110,
     "metadata": {},
     "output_type": "execute_result"
    }
   ],
   "source": [
    "pd.DataFrame(confusion_matrix(y_true, y_pred, labels=np.arange(0,10)))"
   ]
  },
  {
   "cell_type": "code",
   "execution_count": 131,
   "id": "5487b362",
   "metadata": {},
   "outputs": [
    {
     "data": {
      "image/png": "[encoded data removed]",
      "text/plain": [
       "<Figure size 800x600 with 1 Axes>"
      ]
     },
     "metadata": {},
     "output_type": "display_data"
    }
   ],
   "source": [
    "\n",
    "import seaborn as sns\n",
    "import matplotlib.pyplot as plt\n",
    "from sklearn.metrics import confusion_matrix\n",
    "\n",
    "conf_matrix = confusion_matrix(y_true, y_pred, labels=np.arange(0, 10))\n",
    "\n",
    "# Create a DataFrame from the confusion matrix\n",
    "confusion_df = pd.DataFrame(conf_matrix, index=np.arange(0, 10), columns=np.arange(0, 10))\n",
    "\n",
    "# Create a heatmap of the confusion matrix\n",
    "plt.figure(figsize=(8, 6))\n",
    "sns.heatmap(confusion_df, annot=True, fmt='d', cmap='Blues', cbar=False)\n",
    "plt.xlabel('Predicted')\n",
    "plt.ylabel('Actual')\n",
    "plt.title('Confusion Matrix')\n",
    "plt.show()\n"
   ]
  },
  {
   "cell_type": "code",
   "execution_count": 133,
   "id": "b0d659f2",
   "metadata": {},
   "outputs": [
    {
     "name": "stdout",
     "output_type": "stream",
     "text": [
      "Classification Report:\n",
      "               precision    recall  f1-score   support\n",
      "\n",
      "           0       0.99      1.00      0.99       980\n",
      "           1       0.99      1.00      1.00      1135\n",
      "           2       0.98      0.99      0.99      1032\n",
      "           3       1.00      0.98      0.99      1010\n",
      "           4       1.00      0.98      0.99       982\n",
      "           5       0.97      1.00      0.98       892\n",
      "           6       1.00      0.98      0.99       958\n",
      "           7       0.99      0.98      0.99      1028\n",
      "           8       0.98      0.99      0.99       974\n",
      "           9       0.98      0.98      0.98      1009\n",
      "\n",
      "    accuracy                           0.99     10000\n",
      "   macro avg       0.99      0.99      0.99     10000\n",
      "weighted avg       0.99      0.99      0.99     10000\n",
      "\n"
     ]
    }
   ],
   "source": [
    "from sklearn.metrics import classification_report\n",
    "class_labels = [str(label) for label in np.arange(0, 10)]\n",
    "class_report = classification_report(y_true, y_pred, target_names=class_labels)\n",
    "print(\"Classification Report:\\n\", class_report)"
   ]
  },
  {
   "cell_type": "code",
   "execution_count": 114,
   "id": "ab537a1f",
   "metadata": {},
   "outputs": [],
   "source": [
    "import requests\n",
    "from PIL import Image\n",
    "from io import BytesIO"
   ]
  },
  {
   "cell_type": "markdown",
   "id": "f2d47412",
   "metadata": {},
   "source": [
    "### Testing The Model"
   ]
  },
  {
   "cell_type": "code",
   "execution_count": 115,
   "id": "a909ba45",
   "metadata": {},
   "outputs": [],
   "source": [
    "def inference(path, model):\n",
    "    r = requests.get(path)         # we are using request library to get path of test image\n",
    "    \n",
    "    # opens the image content received from the HTTP request as a binary stream using BytesIO. \n",
    "    # The image content is stored in the f variable.\n",
    "    \n",
    "    with BytesIO(r.content) as f:\n",
    "        img = Image.open(f).convert(mode=\"L\")\n",
    "        img = img.resize((28, 28))   # we are resizing img to 28x28\n",
    "        x = (255 - np.expand_dims(np.array(img), -1))/255.\n",
    "    with torch.no_grad():\n",
    "        pred = model(torch.unsqueeze(T(x), axis=0).float())\n",
    "        return F.softmax(pred, dim=-1).cpu().numpy()"
   ]
  },
  {
   "cell_type": "code",
   "execution_count": 125,
   "id": "2146e3e8",
   "metadata": {},
   "outputs": [],
   "source": [
    "path = \"https://previews.123rf.com/images/aroas/aroas1704/aroas170400068/79321959-handwritten-sketch-black-number-8-on-white-background.jpg\"\n",
    "r = requests.get(path)\n",
    "with BytesIO(r.content) as f:\n",
    "    img = Image.open(f).convert(mode=\"L\")\n",
    "    img = img.resize((28, 28))\n",
    "x = (255 - np.expand_dims(np.array(img), -1))/255."
   ]
  },
  {
   "cell_type": "code",
   "execution_count": 126,
   "id": "f912099d",
   "metadata": {},
   "outputs": [
    {
     "data": {
      "text/plain": [
       "<matplotlib.image.AxesImage at 0x27acb17f990>"
      ]
     },
     "execution_count": 126,
     "metadata": {},
     "output_type": "execute_result"
    },
    {
     "data": {
      "image/png": "[encoded data removed]",
      "text/plain": [
       "<Figure size 640x480 with 1 Axes>"
      ]
     },
     "metadata": {},
     "output_type": "display_data"
    }
   ],
   "source": [
    "plt.imshow(x.squeeze(-1), cmap=\"gray\")"
   ]
  },
  {
   "cell_type": "markdown",
   "id": "e26a2f46",
   "metadata": {},
   "source": [
    "### Prediction"
   ]
  },
  {
   "cell_type": "code",
   "execution_count": 129,
   "id": "30c276ce",
   "metadata": {},
   "outputs": [
    {
     "name": "stdout",
     "output_type": "stream",
     "text": [
      "Predicted: 8, Prob: 50.49455761909485 %\n"
     ]
    }
   ],
   "source": [
    "pred = inference(path, detector)\n",
    "pred_idx = np.argmax(pred)\n",
    "print(f\"Predicted: {pred_idx}, Prob: {pred[0][pred_idx]*100} %\")"
   ]
  },
  {
   "cell_type": "code",
   "execution_count": 130,
   "id": "9e7c467c",
   "metadata": {},
   "outputs": [
    {
     "data": {
      "text/plain": [
       "array([[1.00825071e-06, 2.74393557e-07, 6.26917754e-05, 2.02030241e-02,\n",
       "        1.03248703e-05, 4.68674332e-01, 6.10265788e-03, 1.38723335e-08,\n",
       "        5.04945576e-01, 3.90690751e-08]], dtype=float32)"
      ]
     },
     "execution_count": 130,
     "metadata": {},
     "output_type": "execute_result"
    }
   ],
   "source": [
    "pred"
   ]
  },
  {
   "cell_type": "code",
   "execution_count": null,
   "id": "2871f7ad",
   "metadata": {},
   "outputs": [],
   "source": []
  }
 ],
 "metadata": {
  "kernelspec": {
   "display_name": "Python 3 (ipykernel)",
   "language": "python",
   "name": "python3"
  },
  "language_info": {
   "codemirror_mode": {
    "name": "ipython",
    "version": 3
   },
   "file_extension": ".py",
   "mimetype": "text/x-python",
   "name": "python",
   "nbconvert_exporter": "python",
   "pygments_lexer": "ipython3",
   "version": "3.11.4"
  }
 },
 "nbformat": 4,
 "nbformat_minor": 5
}
