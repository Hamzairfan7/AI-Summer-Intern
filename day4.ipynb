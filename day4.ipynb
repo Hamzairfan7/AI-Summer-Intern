{
 "cells": [
  {
   "cell_type": "code",
   "execution_count": 1,
   "id": "a75ca8f9",
   "metadata": {},
   "outputs": [],
   "source": [
    "import numpy as np"
   ]
  },
  {
   "cell_type": "code",
   "execution_count": 2,
   "id": "91326e02",
   "metadata": {},
   "outputs": [],
   "source": [
    "a=np.array([1,2,3])\n",
    "b=np.array([5,6,7])"
   ]
  },
  {
   "cell_type": "code",
   "execution_count": 3,
   "id": "8f555bdf",
   "metadata": {},
   "outputs": [
    {
     "data": {
      "text/plain": [
       "array([ 5, 12, 21])"
      ]
     },
     "execution_count": 3,
     "metadata": {},
     "output_type": "execute_result"
    }
   ],
   "source": [
    "a*b"
   ]
  },
  {
   "cell_type": "code",
   "execution_count": 4,
   "id": "107e5ca2",
   "metadata": {},
   "outputs": [],
   "source": [
    "a=np.array([[6,7,23,64,7],[66,69,45,44,12]])"
   ]
  },
  {
   "cell_type": "code",
   "execution_count": 5,
   "id": "04649216",
   "metadata": {},
   "outputs": [
    {
     "name": "stdout",
     "output_type": "stream",
     "text": [
      "[[ 6  7 23 64  7]\n",
      " [66 69 45 44 12]]\n"
     ]
    }
   ],
   "source": [
    "print(a)"
   ]
  },
  {
   "cell_type": "code",
   "execution_count": 6,
   "id": "6f0e15ff",
   "metadata": {},
   "outputs": [
    {
     "data": {
      "text/plain": [
       "2"
      ]
     },
     "execution_count": 6,
     "metadata": {},
     "output_type": "execute_result"
    }
   ],
   "source": [
    "#FOR DIMENSIONS\n",
    "a.ndim"
   ]
  },
  {
   "cell_type": "code",
   "execution_count": 8,
   "id": "5f0033a9",
   "metadata": {},
   "outputs": [
    {
     "data": {
      "text/plain": [
       "dtype('int32')"
      ]
     },
     "execution_count": 8,
     "metadata": {},
     "output_type": "execute_result"
    }
   ],
   "source": [
    "#type\n",
    "a.dtype"
   ]
  },
  {
   "cell_type": "code",
   "execution_count": 10,
   "id": "c99151f6",
   "metadata": {},
   "outputs": [
    {
     "name": "stdout",
     "output_type": "stream",
     "text": [
      "[[34 54 33 76 34]\n",
      " [76 34 65 39 69]]\n"
     ]
    }
   ],
   "source": [
    "x=np.array([[34,54,33,76,34],[76,34,65,39,69]])\n",
    "print(x)"
   ]
  },
  {
   "cell_type": "code",
   "execution_count": 12,
   "id": "ad99c136",
   "metadata": {},
   "outputs": [
    {
     "data": {
      "text/plain": [
       "69"
      ]
     },
     "execution_count": 12,
     "metadata": {},
     "output_type": "execute_result"
    }
   ],
   "source": [
    "#get specific element\n",
    "x[1,4]"
   ]
  },
  {
   "cell_type": "code",
   "execution_count": 18,
   "id": "53fab0f3",
   "metadata": {},
   "outputs": [
    {
     "data": {
      "text/plain": [
       "array([34, 54, 33, 76, 34])"
      ]
     },
     "execution_count": 18,
     "metadata": {},
     "output_type": "execute_result"
    }
   ],
   "source": [
    "#get specific row and coloumn\n",
    "x[0, :]"
   ]
  },
  {
   "cell_type": "code",
   "execution_count": 19,
   "id": "2a38710b",
   "metadata": {},
   "outputs": [
    {
     "data": {
      "text/plain": [
       "array([76, 39])"
      ]
     },
     "execution_count": 19,
     "metadata": {},
     "output_type": "execute_result"
    }
   ],
   "source": [
    "x[:,3]"
   ]
  },
  {
   "cell_type": "code",
   "execution_count": 23,
   "id": "a7ba0565",
   "metadata": {},
   "outputs": [
    {
     "data": {
      "text/plain": [
       "array([54])"
      ]
     },
     "execution_count": 23,
     "metadata": {},
     "output_type": "execute_result"
    }
   ],
   "source": [
    "x[0, 1:3:2]"
   ]
  },
  {
   "cell_type": "code",
   "execution_count": 25,
   "id": "03d2706d",
   "metadata": {},
   "outputs": [
    {
     "data": {
      "text/plain": [
       "array([54, 76])"
      ]
     },
     "execution_count": 25,
     "metadata": {},
     "output_type": "execute_result"
    }
   ],
   "source": [
    "x[0, 1:-1:2]"
   ]
  },
  {
   "cell_type": "code",
   "execution_count": 26,
   "id": "c8e4bb44",
   "metadata": {},
   "outputs": [],
   "source": [
    "x[1,3]=34"
   ]
  },
  {
   "cell_type": "code",
   "execution_count": 27,
   "id": "5ab82d78",
   "metadata": {},
   "outputs": [
    {
     "data": {
      "text/plain": [
       "array([[34, 54, 33, 76, 34],\n",
       "       [76, 34, 65, 34, 69]])"
      ]
     },
     "execution_count": 27,
     "metadata": {},
     "output_type": "execute_result"
    }
   ],
   "source": [
    "x"
   ]
  },
  {
   "cell_type": "code",
   "execution_count": 30,
   "id": "2931a407",
   "metadata": {},
   "outputs": [],
   "source": [
    "b=np.array([[[3,4],[6,7]],[[5,6],[7,3]]])"
   ]
  },
  {
   "cell_type": "code",
   "execution_count": 31,
   "id": "e401bbec",
   "metadata": {},
   "outputs": [
    {
     "data": {
      "text/plain": [
       "array([[[3, 4],\n",
       "        [6, 7]],\n",
       "\n",
       "       [[5, 6],\n",
       "        [7, 3]]])"
      ]
     },
     "execution_count": 31,
     "metadata": {},
     "output_type": "execute_result"
    }
   ],
   "source": [
    "b"
   ]
  },
  {
   "cell_type": "code",
   "execution_count": 32,
   "id": "5e6e481d",
   "metadata": {},
   "outputs": [
    {
     "data": {
      "text/plain": [
       "6"
      ]
     },
     "execution_count": 32,
     "metadata": {},
     "output_type": "execute_result"
    }
   ],
   "source": [
    "b[1,0,1]"
   ]
  },
  {
   "cell_type": "code",
   "execution_count": null,
   "id": "c98b987f",
   "metadata": {},
   "outputs": [],
   "source": []
  }
 ],
 "metadata": {
  "kernelspec": {
   "display_name": "Python 3 (ipykernel)",
   "language": "python",
   "name": "python3"
  },
  "language_info": {
   "codemirror_mode": {
    "name": "ipython",
    "version": 3
   },
   "file_extension": ".py",
   "mimetype": "text/x-python",
   "name": "python",
   "nbconvert_exporter": "python",
   "pygments_lexer": "ipython3",
   "version": "3.11.4"
  }
 },
 "nbformat": 4,
 "nbformat_minor": 5
}
