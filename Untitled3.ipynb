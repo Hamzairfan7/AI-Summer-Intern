{
 "cells": [
  {
   "cell_type": "code",
   "execution_count": 1,
   "id": "c97a37bf-4fd8-42c6-9f35-52ac35f9143a",
   "metadata": {},
   "outputs": [],
   "source": [
    "import pandas as pd"
   ]
  },
  {
   "cell_type": "code",
   "execution_count": 2,
   "id": "9322d372-de6f-4184-949e-d602e2ea1cee",
   "metadata": {},
   "outputs": [],
   "source": [
    "df1=pd.DataFrame()"
   ]
  },
  {
   "cell_type": "code",
   "execution_count": 3,
   "id": "ddfa7261-6a79-47ec-a530-3a45aa0a4219",
   "metadata": {},
   "outputs": [
    {
     "data": {
      "text/plain": [
       "pandas.core.frame.DataFrame"
      ]
     },
     "execution_count": 3,
     "metadata": {},
     "output_type": "execute_result"
    }
   ],
   "source": [
    "type(df1)"
   ]
  },
  {
   "cell_type": "code",
   "execution_count": 4,
   "id": "3a902e40-d4a4-4236-b2ab-99ade3ced4f7",
   "metadata": {},
   "outputs": [
    {
     "name": "stdout",
     "output_type": "stream",
     "text": [
      "Empty DataFrame\n",
      "Columns: []\n",
      "Index: []\n"
     ]
    }
   ],
   "source": [
    "print(df1)"
   ]
  },
  {
   "cell_type": "code",
   "execution_count": 9,
   "id": "4f442d88-1a74-4c00-a43e-88c5f90d025a",
   "metadata": {},
   "outputs": [],
   "source": [
    "student_list = [['bobby',1,'hum','khush'],\n",
    "                 ['help',1000,'kabhi','khushi']]"
   ]
  },
  {
   "cell_type": "code",
   "execution_count": 10,
   "id": "1e9e592a-00f6-4ded-992b-e0e1df2b54fe",
   "metadata": {},
   "outputs": [],
   "source": [
    "student_df= pd.DataFrame(student_list)"
   ]
  },
  {
   "cell_type": "code",
   "execution_count": 11,
   "id": "451755a1-8f2b-42ad-8c19-bec668dcc2b1",
   "metadata": {},
   "outputs": [
    {
     "data": {
      "text/html": [
       "<div>\n",
       "<style scoped>\n",
       "    .dataframe tbody tr th:only-of-type {\n",
       "        vertical-align: middle;\n",
       "    }\n",
       "\n",
       "    .dataframe tbody tr th {\n",
       "        vertical-align: top;\n",
       "    }\n",
       "\n",
       "    .dataframe thead th {\n",
       "        text-align: right;\n",
       "    }\n",
       "</style>\n",
       "<table border=\"1\" class=\"dataframe\">\n",
       "  <thead>\n",
       "    <tr style=\"text-align: right;\">\n",
       "      <th></th>\n",
       "      <th>0</th>\n",
       "      <th>1</th>\n",
       "      <th>2</th>\n",
       "      <th>3</th>\n",
       "    </tr>\n",
       "  </thead>\n",
       "  <tbody>\n",
       "    <tr>\n",
       "      <th>0</th>\n",
       "      <td>bobby</td>\n",
       "      <td>1</td>\n",
       "      <td>hum</td>\n",
       "      <td>khush</td>\n",
       "    </tr>\n",
       "    <tr>\n",
       "      <th>1</th>\n",
       "      <td>help</td>\n",
       "      <td>1000</td>\n",
       "      <td>kabhi</td>\n",
       "      <td>khushi</td>\n",
       "    </tr>\n",
       "  </tbody>\n",
       "</table>\n",
       "</div>"
      ],
      "text/plain": [
       "       0     1      2       3\n",
       "0  bobby     1    hum   khush\n",
       "1   help  1000  kabhi  khushi"
      ]
     },
     "execution_count": 11,
     "metadata": {},
     "output_type": "execute_result"
    }
   ],
   "source": [
    "student_df"
   ]
  },
  {
   "cell_type": "code",
   "execution_count": 13,
   "id": "1b740f04-28f0-4123-bc0b-776a7c2dc752",
   "metadata": {},
   "outputs": [],
   "source": [
    "student_df= pd.DataFrame(student_list,columns=['naam','num','ap','jazbat'])"
   ]
  },
  {
   "cell_type": "code",
   "execution_count": 14,
   "id": "79885ab3-c31e-4c89-9317-5a488f0f2c54",
   "metadata": {},
   "outputs": [
    {
     "data": {
      "text/html": [
       "<div>\n",
       "<style scoped>\n",
       "    .dataframe tbody tr th:only-of-type {\n",
       "        vertical-align: middle;\n",
       "    }\n",
       "\n",
       "    .dataframe tbody tr th {\n",
       "        vertical-align: top;\n",
       "    }\n",
       "\n",
       "    .dataframe thead th {\n",
       "        text-align: right;\n",
       "    }\n",
       "</style>\n",
       "<table border=\"1\" class=\"dataframe\">\n",
       "  <thead>\n",
       "    <tr style=\"text-align: right;\">\n",
       "      <th></th>\n",
       "      <th>naam</th>\n",
       "      <th>num</th>\n",
       "      <th>ap</th>\n",
       "      <th>jazbat</th>\n",
       "    </tr>\n",
       "  </thead>\n",
       "  <tbody>\n",
       "    <tr>\n",
       "      <th>0</th>\n",
       "      <td>bobby</td>\n",
       "      <td>1</td>\n",
       "      <td>hum</td>\n",
       "      <td>khush</td>\n",
       "    </tr>\n",
       "    <tr>\n",
       "      <th>1</th>\n",
       "      <td>help</td>\n",
       "      <td>1000</td>\n",
       "      <td>kabhi</td>\n",
       "      <td>khushi</td>\n",
       "    </tr>\n",
       "  </tbody>\n",
       "</table>\n",
       "</div>"
      ],
      "text/plain": [
       "    naam   num     ap  jazbat\n",
       "0  bobby     1    hum   khush\n",
       "1   help  1000  kabhi  khushi"
      ]
     },
     "execution_count": 14,
     "metadata": {},
     "output_type": "execute_result"
    }
   ],
   "source": [
    "student_df"
   ]
  },
  {
   "cell_type": "code",
   "execution_count": 15,
   "id": "89928dd5-2c8a-4b5d-a154-ce24a6bf5909",
   "metadata": {},
   "outputs": [],
   "source": [
    "student_df= pd.DataFrame(student_list,columns=['naam','num','ap','jazbat'],index=['pak','afg'])"
   ]
  },
  {
   "cell_type": "code",
   "execution_count": 16,
   "id": "2ec66acd-7146-4efc-85cd-68af6faa24ac",
   "metadata": {},
   "outputs": [
    {
     "data": {
      "text/html": [
       "<div>\n",
       "<style scoped>\n",
       "    .dataframe tbody tr th:only-of-type {\n",
       "        vertical-align: middle;\n",
       "    }\n",
       "\n",
       "    .dataframe tbody tr th {\n",
       "        vertical-align: top;\n",
       "    }\n",
       "\n",
       "    .dataframe thead th {\n",
       "        text-align: right;\n",
       "    }\n",
       "</style>\n",
       "<table border=\"1\" class=\"dataframe\">\n",
       "  <thead>\n",
       "    <tr style=\"text-align: right;\">\n",
       "      <th></th>\n",
       "      <th>naam</th>\n",
       "      <th>num</th>\n",
       "      <th>ap</th>\n",
       "      <th>jazbat</th>\n",
       "    </tr>\n",
       "  </thead>\n",
       "  <tbody>\n",
       "    <tr>\n",
       "      <th>pak</th>\n",
       "      <td>bobby</td>\n",
       "      <td>1</td>\n",
       "      <td>hum</td>\n",
       "      <td>khush</td>\n",
       "    </tr>\n",
       "    <tr>\n",
       "      <th>afg</th>\n",
       "      <td>help</td>\n",
       "      <td>1000</td>\n",
       "      <td>kabhi</td>\n",
       "      <td>khushi</td>\n",
       "    </tr>\n",
       "  </tbody>\n",
       "</table>\n",
       "</div>"
      ],
      "text/plain": [
       "      naam   num     ap  jazbat\n",
       "pak  bobby     1    hum   khush\n",
       "afg   help  1000  kabhi  khushi"
      ]
     },
     "execution_count": 16,
     "metadata": {},
     "output_type": "execute_result"
    }
   ],
   "source": [
    "student_df"
   ]
  },
  {
   "cell_type": "code",
   "execution_count": 17,
   "id": "900b1bf2-2fa5-48be-a160-8c9b48cfaa46",
   "metadata": {},
   "outputs": [],
   "source": [
    "students_dict= {'naam':['bobby','shah'], 'num':[100,98], 'ap':['hum','tum'], 'jazbat':['khush', 'udas'],}"
   ]
  },
  {
   "cell_type": "code",
   "execution_count": 18,
   "id": "4fbebc18-5a47-43a0-a910-bc9f66562dbe",
   "metadata": {},
   "outputs": [],
   "source": [
    "student_df2= pd.DataFrame(students_dict)"
   ]
  },
  {
   "cell_type": "code",
   "execution_count": 19,
   "id": "b9542509-8536-4a37-b696-f76e99b3d9cb",
   "metadata": {},
   "outputs": [
    {
     "data": {
      "text/html": [
       "<div>\n",
       "<style scoped>\n",
       "    .dataframe tbody tr th:only-of-type {\n",
       "        vertical-align: middle;\n",
       "    }\n",
       "\n",
       "    .dataframe tbody tr th {\n",
       "        vertical-align: top;\n",
       "    }\n",
       "\n",
       "    .dataframe thead th {\n",
       "        text-align: right;\n",
       "    }\n",
       "</style>\n",
       "<table border=\"1\" class=\"dataframe\">\n",
       "  <thead>\n",
       "    <tr style=\"text-align: right;\">\n",
       "      <th></th>\n",
       "      <th>naam</th>\n",
       "      <th>num</th>\n",
       "      <th>ap</th>\n",
       "      <th>jazbat</th>\n",
       "    </tr>\n",
       "  </thead>\n",
       "  <tbody>\n",
       "    <tr>\n",
       "      <th>0</th>\n",
       "      <td>bobby</td>\n",
       "      <td>100</td>\n",
       "      <td>hum</td>\n",
       "      <td>khush</td>\n",
       "    </tr>\n",
       "    <tr>\n",
       "      <th>1</th>\n",
       "      <td>shah</td>\n",
       "      <td>98</td>\n",
       "      <td>tum</td>\n",
       "      <td>udas</td>\n",
       "    </tr>\n",
       "  </tbody>\n",
       "</table>\n",
       "</div>"
      ],
      "text/plain": [
       "    naam  num   ap jazbat\n",
       "0  bobby  100  hum  khush\n",
       "1   shah   98  tum   udas"
      ]
     },
     "execution_count": 19,
     "metadata": {},
     "output_type": "execute_result"
    }
   ],
   "source": [
    "student_df2"
   ]
  },
  {
   "cell_type": "code",
   "execution_count": 20,
   "id": "fd75b1ca-e0ba-4671-8b11-78d3d5723664",
   "metadata": {},
   "outputs": [],
   "source": [
    "student_df2= pd.DataFrame(students_dict, index=['helo','deer'])"
   ]
  },
  {
   "cell_type": "code",
   "execution_count": 21,
   "id": "6a372725-9c33-4d7f-8aeb-47a4b02673c9",
   "metadata": {},
   "outputs": [
    {
     "data": {
      "text/html": [
       "<div>\n",
       "<style scoped>\n",
       "    .dataframe tbody tr th:only-of-type {\n",
       "        vertical-align: middle;\n",
       "    }\n",
       "\n",
       "    .dataframe tbody tr th {\n",
       "        vertical-align: top;\n",
       "    }\n",
       "\n",
       "    .dataframe thead th {\n",
       "        text-align: right;\n",
       "    }\n",
       "</style>\n",
       "<table border=\"1\" class=\"dataframe\">\n",
       "  <thead>\n",
       "    <tr style=\"text-align: right;\">\n",
       "      <th></th>\n",
       "      <th>naam</th>\n",
       "      <th>num</th>\n",
       "      <th>ap</th>\n",
       "      <th>jazbat</th>\n",
       "    </tr>\n",
       "  </thead>\n",
       "  <tbody>\n",
       "    <tr>\n",
       "      <th>helo</th>\n",
       "      <td>bobby</td>\n",
       "      <td>100</td>\n",
       "      <td>hum</td>\n",
       "      <td>khush</td>\n",
       "    </tr>\n",
       "    <tr>\n",
       "      <th>deer</th>\n",
       "      <td>shah</td>\n",
       "      <td>98</td>\n",
       "      <td>tum</td>\n",
       "      <td>udas</td>\n",
       "    </tr>\n",
       "  </tbody>\n",
       "</table>\n",
       "</div>"
      ],
      "text/plain": [
       "       naam  num   ap jazbat\n",
       "helo  bobby  100  hum  khush\n",
       "deer   shah   98  tum   udas"
      ]
     },
     "execution_count": 21,
     "metadata": {},
     "output_type": "execute_result"
    }
   ],
   "source": [
    "student_df2"
   ]
  },
  {
   "cell_type": "code",
   "execution_count": 22,
   "id": "f85f988d-59d4-437c-93b0-0d8f62c574fb",
   "metadata": {},
   "outputs": [
    {
     "data": {
      "text/plain": [
       "(2, 4)"
      ]
     },
     "execution_count": 22,
     "metadata": {},
     "output_type": "execute_result"
    }
   ],
   "source": [
    "student_df2.shape"
   ]
  },
  {
   "cell_type": "code",
   "execution_count": null,
   "id": "0db8d23e-92c2-45d7-9f44-f2469b4d841d",
   "metadata": {},
   "outputs": [],
   "source": []
  }
 ],
 "metadata": {
  "kernelspec": {
   "display_name": "Python 3 (ipykernel)",
   "language": "python",
   "name": "python3"
  },
  "language_info": {
   "codemirror_mode": {
    "name": "ipython",
    "version": 3
   },
   "file_extension": ".py",
   "mimetype": "text/x-python",
   "name": "python",
   "nbconvert_exporter": "python",
   "pygments_lexer": "ipython3",
   "version": "3.11.4"
  }
 },
 "nbformat": 4,
 "nbformat_minor": 5
}
