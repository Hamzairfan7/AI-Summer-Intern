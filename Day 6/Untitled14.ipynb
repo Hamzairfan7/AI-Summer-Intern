{
 "cells": [
  {
   "cell_type": "code",
   "execution_count": 2,
   "id": "bd9d7bda",
   "metadata": {},
   "outputs": [],
   "source": [
    "import numpy as np\n",
    "import pandas as pd\n",
    "import matplotlib.pyplot as plt"
   ]
  },
  {
   "cell_type": "code",
   "execution_count": 4,
   "id": "0af7a344",
   "metadata": {},
   "outputs": [],
   "source": [
    "data = pd.read_csv(r'C:\\Users\\HM\\Downloads\\archive (1)\\t20.csv')"
   ]
  },
  {
   "cell_type": "code",
   "execution_count": 5,
   "id": "1973ae69",
   "metadata": {},
   "outputs": [
    {
     "data": {
      "text/html": [
       "<div>\n",
       "<style scoped>\n",
       "    .dataframe tbody tr th:only-of-type {\n",
       "        vertical-align: middle;\n",
       "    }\n",
       "\n",
       "    .dataframe tbody tr th {\n",
       "        vertical-align: top;\n",
       "    }\n",
       "\n",
       "    .dataframe thead th {\n",
       "        text-align: right;\n",
       "    }\n",
       "</style>\n",
       "<table border=\"1\" class=\"dataframe\">\n",
       "  <thead>\n",
       "    <tr style=\"text-align: right;\">\n",
       "      <th></th>\n",
       "      <th>Unnamed: 0</th>\n",
       "      <th>Player</th>\n",
       "      <th>Span</th>\n",
       "      <th>Mat</th>\n",
       "      <th>Inns</th>\n",
       "      <th>NO</th>\n",
       "      <th>Runs</th>\n",
       "      <th>HS</th>\n",
       "      <th>Ave</th>\n",
       "      <th>BF</th>\n",
       "      <th>SR</th>\n",
       "      <th>100</th>\n",
       "      <th>50</th>\n",
       "      <th>0</th>\n",
       "      <th>4s</th>\n",
       "      <th>6s</th>\n",
       "      <th>Unnamed: 15</th>\n",
       "    </tr>\n",
       "  </thead>\n",
       "  <tbody>\n",
       "    <tr>\n",
       "      <th>0</th>\n",
       "      <td>0</td>\n",
       "      <td>V Kohli (INDIA)</td>\n",
       "      <td>2010-2019</td>\n",
       "      <td>75</td>\n",
       "      <td>70</td>\n",
       "      <td>20</td>\n",
       "      <td>2633</td>\n",
       "      <td>94*</td>\n",
       "      <td>52.66</td>\n",
       "      <td>1907</td>\n",
       "      <td>138.07</td>\n",
       "      <td>0</td>\n",
       "      <td>24</td>\n",
       "      <td>2</td>\n",
       "      <td>247</td>\n",
       "      <td>71</td>\n",
       "      <td>NaN</td>\n",
       "    </tr>\n",
       "    <tr>\n",
       "      <th>1</th>\n",
       "      <td>1</td>\n",
       "      <td>RG Sharma (INDIA)</td>\n",
       "      <td>2007-2019</td>\n",
       "      <td>104</td>\n",
       "      <td>96</td>\n",
       "      <td>14</td>\n",
       "      <td>2633</td>\n",
       "      <td>118</td>\n",
       "      <td>32.1</td>\n",
       "      <td>1905</td>\n",
       "      <td>138.21</td>\n",
       "      <td>4</td>\n",
       "      <td>19</td>\n",
       "      <td>6</td>\n",
       "      <td>234</td>\n",
       "      <td>120</td>\n",
       "      <td>NaN</td>\n",
       "    </tr>\n",
       "    <tr>\n",
       "      <th>2</th>\n",
       "      <td>2</td>\n",
       "      <td>MJ Guptill (NZ)</td>\n",
       "      <td>2009-2019</td>\n",
       "      <td>83</td>\n",
       "      <td>80</td>\n",
       "      <td>7</td>\n",
       "      <td>2436</td>\n",
       "      <td>105</td>\n",
       "      <td>33.36</td>\n",
       "      <td>1810</td>\n",
       "      <td>134.58</td>\n",
       "      <td>2</td>\n",
       "      <td>15</td>\n",
       "      <td>2</td>\n",
       "      <td>215</td>\n",
       "      <td>113</td>\n",
       "      <td>NaN</td>\n",
       "    </tr>\n",
       "    <tr>\n",
       "      <th>3</th>\n",
       "      <td>3</td>\n",
       "      <td>Shoaib Malik (ICC/PAK)</td>\n",
       "      <td>2006-2019</td>\n",
       "      <td>111</td>\n",
       "      <td>104</td>\n",
       "      <td>30</td>\n",
       "      <td>2263</td>\n",
       "      <td>75</td>\n",
       "      <td>30.58</td>\n",
       "      <td>1824</td>\n",
       "      <td>124.06</td>\n",
       "      <td>0</td>\n",
       "      <td>7</td>\n",
       "      <td>1</td>\n",
       "      <td>186</td>\n",
       "      <td>61</td>\n",
       "      <td>NaN</td>\n",
       "    </tr>\n",
       "    <tr>\n",
       "      <th>4</th>\n",
       "      <td>4</td>\n",
       "      <td>BB McCullum (NZ)</td>\n",
       "      <td>2005-2015</td>\n",
       "      <td>71</td>\n",
       "      <td>70</td>\n",
       "      <td>10</td>\n",
       "      <td>2140</td>\n",
       "      <td>123</td>\n",
       "      <td>35.66</td>\n",
       "      <td>1571</td>\n",
       "      <td>136.21</td>\n",
       "      <td>2</td>\n",
       "      <td>13</td>\n",
       "      <td>3</td>\n",
       "      <td>199</td>\n",
       "      <td>91</td>\n",
       "      <td>NaN</td>\n",
       "    </tr>\n",
       "  </tbody>\n",
       "</table>\n",
       "</div>"
      ],
      "text/plain": [
       "   Unnamed: 0                  Player       Span  Mat Inns  NO  Runs   HS  \\\n",
       "0           0         V Kohli (INDIA)  2010-2019   75   70  20  2633  94*   \n",
       "1           1       RG Sharma (INDIA)  2007-2019  104   96  14  2633  118   \n",
       "2           2         MJ Guptill (NZ)  2009-2019   83   80   7  2436  105   \n",
       "3           3  Shoaib Malik (ICC/PAK)  2006-2019  111  104  30  2263   75   \n",
       "4           4        BB McCullum (NZ)  2005-2015   71   70  10  2140  123   \n",
       "\n",
       "     Ave    BF      SR 100  50  0   4s   6s  Unnamed: 15  \n",
       "0  52.66  1907  138.07   0  24  2  247   71          NaN  \n",
       "1   32.1  1905  138.21   4  19  6  234  120          NaN  \n",
       "2  33.36  1810  134.58   2  15  2  215  113          NaN  \n",
       "3  30.58  1824  124.06   0   7  1  186   61          NaN  \n",
       "4  35.66  1571  136.21   2  13  3  199   91          NaN  "
      ]
     },
     "execution_count": 5,
     "metadata": {},
     "output_type": "execute_result"
    }
   ],
   "source": [
    "data.head()"
   ]
  },
  {
   "cell_type": "code",
   "execution_count": 37,
   "id": "ab3daf4d",
   "metadata": {},
   "outputs": [
    {
     "name": "stdout",
     "output_type": "stream",
     "text": [
      "      Mat  Runs\n",
      "0      75  2633\n",
      "1     104  2633\n",
      "2      83  2436\n",
      "3     111  2263\n",
      "4      71  2140\n",
      "...   ...   ...\n",
      "2001    3     -\n",
      "2002    3     -\n",
      "2003    1     -\n",
      "2004    1     -\n",
      "2005    1     -\n",
      "\n",
      "[2006 rows x 2 columns]\n"
     ]
    }
   ],
   "source": [
    "A = data[['Mat','Runs']]\n",
    "print(A)"
   ]
  },
  {
   "cell_type": "code",
   "execution_count": 38,
   "id": "7ad698f3",
   "metadata": {},
   "outputs": [
    {
     "data": {
      "text/plain": [
       "array([[75, '2633'],\n",
       "       [104, '2633'],\n",
       "       [83, '2436'],\n",
       "       [111, '2263'],\n",
       "       [71, '2140']], dtype=object)"
      ]
     },
     "execution_count": 38,
     "metadata": {},
     "output_type": "execute_result"
    }
   ],
   "source": [
    "matrix = np.array(A.values)\n",
    "matrix[0:5,:]    #first 5 rows of data"
   ]
  },
  {
   "cell_type": "code",
   "execution_count": 39,
   "id": "e0f83a08",
   "metadata": {},
   "outputs": [],
   "source": [
    "#Assign input and target variable\n",
    "X = matrix[:,0]\n",
    "y = matrix[:,1]"
   ]
  },
  {
   "cell_type": "code",
   "execution_count": null,
   "id": "f15d6590",
   "metadata": {},
   "outputs": [],
   "source": [
    "\n"
   ]
  },
  {
   "cell_type": "code",
   "execution_count": 46,
   "id": "388f9a2f",
   "metadata": {},
   "outputs": [],
   "source": [
    "#feature normalization\n",
    "# input variable divided by maximum value among input values in X\n"
   ]
  },
  {
   "cell_type": "code",
   "execution_count": 47,
   "id": "0df4368c",
   "metadata": {},
   "outputs": [
    {
     "data": {
      "image/png": "[encoded data removed]",
      "text/plain": [
       "<Figure size 640x480 with 1 Axes>"
      ]
     },
     "metadata": {},
     "output_type": "display_data"
    }
   ],
   "source": [
    "plt.plot(X,y,'bo')\n",
    "plt.ylabel('Matches')\n",
    "plt.xlabel('Runs')\n",
    "plt.legend(['T20'])\n",
    "plt.title('T20 Data')\n",
    "plt.grid()\n",
    "plt.show()"
   ]
  },
  {
   "cell_type": "code",
   "execution_count": 23,
   "id": "577d552e",
   "metadata": {},
   "outputs": [],
   "source": [
    "def computecost(x,y,theta):\n",
    "    \n",
    "    a = 1/(2*m)\n",
    "    b = np.sum(((x@theta)-y)**2)\n",
    "    j = (a)*(b)\n",
    "    return j"
   ]
  },
  {
   "cell_type": "code",
   "execution_count": 25,
   "id": "f729df6c",
   "metadata": {},
   "outputs": [
    {
     "name": "stdout",
     "output_type": "stream",
     "text": [
      "[[0.]\n",
      " [0.]] \n",
      " 2006\n"
     ]
    }
   ],
   "source": [
    "#initialising parameter\n",
    "m = np.size(y)\n",
    "X = X.reshape([2006,1])\n",
    "x = np.hstack([np.ones_like(X),X])\n",
    "theta = np.zeros([2,1])\n",
    "print(theta,'\\n',m)"
   ]
  },
  {
   "cell_type": "code",
   "execution_count": 49,
   "id": "c71134dc",
   "metadata": {},
   "outputs": [
    {
     "ename": "ValueError",
     "evalue": "could not convert string to float: '-'",
     "output_type": "error",
     "traceback": [
      "\u001b[1;31m---------------------------------------------------------------------------\u001b[0m",
      "\u001b[1;31mValueError\u001b[0m                                Traceback (most recent call last)",
      "Cell \u001b[1;32mIn[49], line 3\u001b[0m\n\u001b[0;32m      1\u001b[0m \u001b[38;5;66;03m# Ensure that x, y, and theta are numeric and of the same data type\u001b[39;00m\n\u001b[0;32m      2\u001b[0m x \u001b[38;5;241m=\u001b[39m x\u001b[38;5;241m.\u001b[39mastype(\u001b[38;5;28mfloat\u001b[39m)\n\u001b[1;32m----> 3\u001b[0m y \u001b[38;5;241m=\u001b[39m y\u001b[38;5;241m.\u001b[39mastype(\u001b[38;5;28mfloat\u001b[39m)\n\u001b[0;32m      4\u001b[0m theta \u001b[38;5;241m=\u001b[39m theta\u001b[38;5;241m.\u001b[39mastype(\u001b[38;5;28mfloat\u001b[39m)\n\u001b[0;32m      6\u001b[0m \u001b[38;5;66;03m# Now, you can call computecost\u001b[39;00m\n",
      "\u001b[1;31mValueError\u001b[0m: could not convert string to float: '-'"
     ]
    }
   ],
   "source": [
    "# Ensure that x, y, and theta are numeric and of the same data type\n",
    "x = x.astype(float)\n",
    "y = y.astype(float)\n",
    "theta = theta.astype(float)\n",
    "\n",
    "# Now, you can call computecost\n",
    "print(computecost(x, y, theta))"
   ]
  },
  {
   "cell_type": "code",
   "execution_count": null,
   "id": "81d5a39f",
   "metadata": {},
   "outputs": [],
   "source": []
  }
 ],
 "metadata": {
  "kernelspec": {
   "display_name": "Python 3 (ipykernel)",
   "language": "python",
   "name": "python3"
  },
  "language_info": {
   "codemirror_mode": {
    "name": "ipython",
    "version": 3
   },
   "file_extension": ".py",
   "mimetype": "text/x-python",
   "name": "python",
   "nbconvert_exporter": "python",
   "pygments_lexer": "ipython3",
   "version": "3.11.4"
  }
 },
 "nbformat": 4,
 "nbformat_minor": 5
}
