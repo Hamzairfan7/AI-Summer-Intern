{
 "cells": [
  {
   "cell_type": "code",
   "execution_count": null,
   "id": "90b10994",
   "metadata": {},
   "outputs": [],
   "source": [
    "import torch"
   ]
  },
  {
   "cell_type": "code",
   "execution_count": 3,
   "id": "15b51f49",
   "metadata": {},
   "outputs": [
    {
     "name": "stdout",
     "output_type": "stream",
     "text": [
      "tensor([[0.9223, 0.0566, 0.1969],\n",
      "        [0.9635, 0.6341, 0.2818],\n",
      "        [0.9869, 0.1334, 0.2089],\n",
      "        [0.6506, 0.3988, 0.0268],\n",
      "        [0.9706, 0.7878, 0.2534]])\n"
     ]
    }
   ],
   "source": [
    "x = torch.rand(5, 3)\n",
    "print(x)"
   ]
  },
  {
   "cell_type": "code",
   "execution_count": 13,
   "id": "a9b3225d",
   "metadata": {},
   "outputs": [
    {
     "name": "stdout",
     "output_type": "stream",
     "text": [
      "tensor([2, 1], dtype=torch.int32)\n"
     ]
    }
   ],
   "source": [
    "y=torch.tensor([2.5,1.2], dtype=torch.int)\n",
    "print(y)"
   ]
  },
  {
   "cell_type": "code",
   "execution_count": 14,
   "id": "f4516586",
   "metadata": {},
   "outputs": [
    {
     "data": {
      "text/plain": [
       "torch.int32"
      ]
     },
     "execution_count": 14,
     "metadata": {},
     "output_type": "execute_result"
    }
   ],
   "source": [
    "y.dtype"
   ]
  },
  {
   "cell_type": "code",
   "execution_count": 17,
   "id": "4c0a00db",
   "metadata": {},
   "outputs": [
    {
     "data": {
      "text/plain": [
       "tensor([[1.4199, 1.3839],\n",
       "        [1.1100, 1.0557]])"
      ]
     },
     "execution_count": 17,
     "metadata": {},
     "output_type": "execute_result"
    }
   ],
   "source": [
    "a=torch.rand(2,2)        # all trailing underscore will do inplace func in tensor\n",
    "b=torch.rand(2,2)\n",
    "a\n",
    "b\n",
    "z=a+b\n",
    "z"
   ]
  },
  {
   "cell_type": "code",
   "execution_count": 18,
   "id": "34ee0f8b",
   "metadata": {},
   "outputs": [
    {
     "data": {
      "text/plain": [
       "tensor([[0.5039, 0.4494],\n",
       "        [0.2802, 0.2572]])"
      ]
     },
     "execution_count": 18,
     "metadata": {},
     "output_type": "execute_result"
    }
   ],
   "source": [
    "z=a*b\n",
    "z"
   ]
  },
  {
   "cell_type": "code",
   "execution_count": 20,
   "id": "44f85ae7",
   "metadata": {},
   "outputs": [],
   "source": [
    "z=torch.mul(a,b)  # This will do same func as x*y will d"
   ]
  },
  {
   "cell_type": "code",
   "execution_count": 21,
   "id": "d8548b68",
   "metadata": {},
   "outputs": [
    {
     "data": {
      "text/plain": [
       "tensor([[0.5039, 0.4494],\n",
       "        [0.2802, 0.2572]])"
      ]
     },
     "execution_count": 21,
     "metadata": {},
     "output_type": "execute_result"
    }
   ],
   "source": [
    "z"
   ]
  },
  {
   "cell_type": "code",
   "execution_count": 22,
   "id": "284feb1a",
   "metadata": {},
   "outputs": [],
   "source": [
    "x=torch.rand(5,3)"
   ]
  },
  {
   "cell_type": "code",
   "execution_count": 23,
   "id": "2cc1a31f",
   "metadata": {},
   "outputs": [
    {
     "data": {
      "text/plain": [
       "tensor([[0.9420, 0.5308, 0.4629],\n",
       "        [0.6666, 0.9394, 0.1097],\n",
       "        [0.5202, 0.1546, 0.8784],\n",
       "        [0.1141, 0.1895, 0.0410],\n",
       "        [0.8760, 0.0668, 0.5700]])"
      ]
     },
     "execution_count": 23,
     "metadata": {},
     "output_type": "execute_result"
    }
   ],
   "source": [
    "x"
   ]
  },
  {
   "cell_type": "code",
   "execution_count": 26,
   "id": "c330d3a8",
   "metadata": {},
   "outputs": [
    {
     "name": "stdout",
     "output_type": "stream",
     "text": [
      "tensor([0.5308, 0.9394, 0.1546, 0.1895, 0.0668])\n"
     ]
    }
   ],
   "source": [
    "print(x[:, 1])"
   ]
  },
  {
   "cell_type": "code",
   "execution_count": 27,
   "id": "9a568ea6",
   "metadata": {},
   "outputs": [
    {
     "name": "stdout",
     "output_type": "stream",
     "text": [
      "tensor([0.1141, 0.1895, 0.0410])\n"
     ]
    }
   ],
   "source": [
    "print(x[3, :])"
   ]
  },
  {
   "cell_type": "code",
   "execution_count": 28,
   "id": "83cb8bd4",
   "metadata": {},
   "outputs": [
    {
     "name": "stdout",
     "output_type": "stream",
     "text": [
      "0.18951350450515747\n"
     ]
    }
   ],
   "source": [
    "print(x[3,1].item())  #will provide us the actuall value, but only when there is one selected val"
   ]
  },
  {
   "cell_type": "code",
   "execution_count": 29,
   "id": "54ae2719",
   "metadata": {},
   "outputs": [],
   "source": [
    "import numpy as np"
   ]
  },
  {
   "cell_type": "code",
   "execution_count": 31,
   "id": "73a4a2d9",
   "metadata": {},
   "outputs": [
    {
     "name": "stdout",
     "output_type": "stream",
     "text": [
      "tensor([1., 1., 1., 1., 1., 1.])\n"
     ]
    },
    {
     "data": {
      "text/plain": [
       "array([1., 1., 1., 1., 1., 1.], dtype=float32)"
      ]
     },
     "execution_count": 31,
     "metadata": {},
     "output_type": "execute_result"
    }
   ],
   "source": [
    "a=torch.ones(6)            #Converted torch to numpy\n",
    "print(a)\n",
    "b = a.numpy()\n",
    "b"
   ]
  },
  {
   "cell_type": "code",
   "execution_count": 32,
   "id": "cc6c54bf",
   "metadata": {},
   "outputs": [
    {
     "data": {
      "text/plain": [
       "array([1., 1., 1., 1., 1.])"
      ]
     },
     "execution_count": 32,
     "metadata": {},
     "output_type": "execute_result"
    }
   ],
   "source": [
    "b=np.ones(5)\n",
    "b"
   ]
  },
  {
   "cell_type": "code",
   "execution_count": 34,
   "id": "bbac79ec",
   "metadata": {},
   "outputs": [
    {
     "data": {
      "text/plain": [
       "tensor([1., 1., 1., 1., 1.], dtype=torch.float64)"
      ]
     },
     "execution_count": 34,
     "metadata": {},
     "output_type": "execute_result"
    }
   ],
   "source": [
    "h=torch.from_numpy(b)      #tensor from numpy\n",
    "h"
   ]
  },
  {
   "cell_type": "code",
   "execution_count": 35,
   "id": "cf86ab65",
   "metadata": {},
   "outputs": [],
   "source": [
    "h[3]=69"
   ]
  },
  {
   "cell_type": "code",
   "execution_count": 36,
   "id": "2882248c",
   "metadata": {},
   "outputs": [
    {
     "data": {
      "text/plain": [
       "tensor([ 1.,  1.,  1., 69.,  1.], dtype=torch.float64)"
      ]
     },
     "execution_count": 36,
     "metadata": {},
     "output_type": "execute_result"
    }
   ],
   "source": [
    "h"
   ]
  },
  {
   "cell_type": "code",
   "execution_count": 41,
   "id": "51e59241",
   "metadata": {},
   "outputs": [],
   "source": [
    "c= torch.tensor(np.arange(0,15).reshape(5,3))  # indexing for 2d array"
   ]
  },
  {
   "cell_type": "code",
   "execution_count": 42,
   "id": "d15d488d",
   "metadata": {},
   "outputs": [
    {
     "data": {
      "text/plain": [
       "tensor([[ 0,  1,  2],\n",
       "        [ 3,  4,  5],\n",
       "        [ 6,  7,  8],\n",
       "        [ 9, 10, 11],\n",
       "        [12, 13, 14]], dtype=torch.int32)"
      ]
     },
     "execution_count": 42,
     "metadata": {},
     "output_type": "execute_result"
    }
   ],
   "source": [
    "c"
   ]
  },
  {
   "cell_type": "code",
   "execution_count": 55,
   "id": "af1ab7a0",
   "metadata": {},
   "outputs": [],
   "source": [
    "d=torch.zeros(3)"
   ]
  },
  {
   "cell_type": "code",
   "execution_count": 53,
   "id": "6768ef7d",
   "metadata": {},
   "outputs": [],
   "source": [
    "e=torch.rand([3], dtype = torch.float32) # This will be stored in d tensor"
   ]
  },
  {
   "cell_type": "code",
   "execution_count": 54,
   "id": "25b18dbe",
   "metadata": {},
   "outputs": [
    {
     "data": {
      "text/plain": [
       "tensor([0.6670, 0.8986, 0.9907])"
      ]
     },
     "execution_count": 54,
     "metadata": {},
     "output_type": "execute_result"
    }
   ],
   "source": [
    "e"
   ]
  },
  {
   "cell_type": "code",
   "execution_count": 57,
   "id": "3d51aeec",
   "metadata": {},
   "outputs": [],
   "source": [
    "f=torch.ones(3)"
   ]
  },
  {
   "cell_type": "code",
   "execution_count": 58,
   "id": "2080c05a",
   "metadata": {},
   "outputs": [],
   "source": [
    "h=f+e"
   ]
  },
  {
   "cell_type": "code",
   "execution_count": 59,
   "id": "9aa579b7",
   "metadata": {},
   "outputs": [
    {
     "data": {
      "text/plain": [
       "tensor([1.6670, 1.8986, 1.9907])"
      ]
     },
     "execution_count": 59,
     "metadata": {},
     "output_type": "execute_result"
    }
   ],
   "source": [
    "h"
   ]
  },
  {
   "cell_type": "code",
   "execution_count": 60,
   "id": "d58468bf",
   "metadata": {},
   "outputs": [
    {
     "data": {
      "text/plain": [
       "tensor([1.6670, 1.8986, 1.9907])"
      ]
     },
     "execution_count": 60,
     "metadata": {},
     "output_type": "execute_result"
    }
   ],
   "source": [
    "torch.add(f,e,out=d)  #what we did here was, we stored the val of f+e into d,"
   ]
  },
  {
   "cell_type": "code",
   "execution_count": 61,
   "id": "147a560f",
   "metadata": {},
   "outputs": [
    {
     "data": {
      "text/plain": [
       "tensor([1.6670, 1.8986, 1.9907])"
      ]
     },
     "execution_count": 61,
     "metadata": {},
     "output_type": "execute_result"
    }
   ],
   "source": [
    "d"
   ]
  },
  {
   "cell_type": "code",
   "execution_count": 62,
   "id": "ac31b6b1",
   "metadata": {},
   "outputs": [
    {
     "data": {
      "text/plain": [
       "tensor(8.5562)"
      ]
     },
     "execution_count": 62,
     "metadata": {},
     "output_type": "execute_result"
    }
   ],
   "source": [
    "torch.add(h,f).sum()"
   ]
  },
  {
   "cell_type": "code",
   "execution_count": null,
   "id": "ab34ca8d",
   "metadata": {},
   "outputs": [],
   "source": []
  }
 ],
 "metadata": {
  "kernelspec": {
   "display_name": "Python 3 (ipykernel)",
   "language": "python",
   "name": "python3"
  },
  "language_info": {
   "codemirror_mode": {
    "name": "ipython",
    "version": 3
   },
   "file_extension": ".py",
   "mimetype": "text/x-python",
   "name": "python",
   "nbconvert_exporter": "python",
   "pygments_lexer": "ipython3",
   "version": "3.11.4"
  }
 },
 "nbformat": 4,
 "nbformat_minor": 5
}
